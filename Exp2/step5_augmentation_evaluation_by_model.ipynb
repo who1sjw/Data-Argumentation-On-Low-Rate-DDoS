{
 "cells": [
  {
   "cell_type": "markdown",
   "id": "1593dfaa",
   "metadata": {},
   "source": [
    "# Step 5: Data Augmentation Evaluation by Model\n",
    "\n",
    "Evaluate five classifiers (MLP, SVM, Random Forest, Logistic Regression, XGBoost) across four test scenarios using None, SMOTE, ADASYN, CVAE, and GAN augmentation."
   ]
  },
  {
   "cell_type": "code",
   "execution_count": null,
   "id": "dadaa17a",
   "metadata": {},
   "outputs": [],
   "source": [
    "import warnings\n",
    "warnings.filterwarnings('ignore')\n",
    "import pandas as pd\n",
    "import numpy as np\n",
    "from sklearn.model_selection import train_test_split\n",
    "from sklearn.preprocessing import StandardScaler\n",
    "from imblearn.over_sampling import SMOTE, ADASYN\n",
    "import matplotlib.pyplot as plt\n",
    "import seaborn as sns\n",
    "\n",
    "# Placeholder augmentation functions\n",
    "def augment_cvae(X, y, n_samples): return X, y\n",
    "def augment_gan(X, y, n_samples): return X, y\n",
    "\n",
    "# Load data splits\n",
    "benign = pd.read_csv('split_by_label/BenignTraffic.csv')\n",
    "slow = pd.read_csv('split_by_label/DDoS-SlowLoris.csv')\n",
    "print(f'Benign: {len(benign)}, Slowloris: {len(slow)}')\n",
    "\n",
    "# Sampling and splitting function\n",
    "def sample_and_split(n_b, n_s):\n",
    "    replace_b = n_b > len(benign)\n",
    "    replace_s = n_s > len(slow)\n",
    "    df = pd.concat([\n",
    "        benign.sample(n=n_b, random_state=42, replace=replace_b),\n",
    "        slow.sample(n=n_s, random_state=42, replace=replace_s)\n",
    "    ], ignore_index=True)\n",
    "    X = df.drop(columns=['label'])\n",
    "    y = (df['label']=='DDoS-SlowLoris').astype(int)\n",
    "    Xs = StandardScaler().fit_transform(X)\n",
    "    return train_test_split(Xs, y, test_size=0.3, random_state=42, stratify=y)\n",
    "\n",
    "tests = {\n",
    "    'Test1': {'benign': 23426, 'slow': 23426},\n",
    "    'Test2': {'benign': 1098195, 'slow': 23426},\n",
    "    'Test3': {'benign': 23426//2, 'slow': 23426//2},\n",
    "    'Test4': {'benign': 23426*2, 'slow': 23426}\n",
    "}\n",
    "methods = ['None','SMOTE','ADASYN','CVAE','GAN']\n"
   ]
  },
  {
   "cell_type": "markdown",
   "id": "e81926cc",
   "metadata": {},
   "source": [
    "## MLPClassifier"
   ]
  },
  {
   "cell_type": "code",
   "execution_count": null,
   "id": "70855b45",
   "metadata": {},
   "outputs": [],
   "source": [
    "from sklearn.neural_network import MLPClassifier\n",
    "from sklearn.metrics import precision_score, recall_score, f1_score, roc_auc_score\n",
    "\n",
    "results_mlp = []\n",
    "for t, sz in tests.items():\n",
    "    X_tr, X_te, y_tr, y_te = sample_and_split(sz['benign'], sz['slow'])\n",
    "    for m in methods:\n",
    "        if m == 'SMOTE':\n",
    "            X_aug, y_aug = SMOTE(random_state=42).fit_resample(X_tr, y_tr)\n",
    "        elif m == 'ADASYN':\n",
    "            X_aug, y_aug = ADASYN(random_state=42).fit_resample(X_tr, y_tr)\n",
    "        elif m == 'CVAE':\n",
    "            X_aug, y_aug = augment_cvae(X_tr, y_tr, sz['benign'])\n",
    "        elif m == 'GAN':\n",
    "            X_aug, y_aug = augment_gan(X_tr, y_tr, sz['benign'])\n",
    "        else:\n",
    "            X_aug, y_aug = X_tr, y_tr\n",
    "        clf = MLPClassifier(random_state=42, max_iter=500, early_stopping=True)\n",
    "        clf.fit(X_aug, y_aug)\n",
    "        y_pred = clf.predict(X_te)\n",
    "        y_proba = clf.predict_proba(X_te)[:,1]\n",
    "        results_mlp.append({\n",
    "            'Test': t, 'Augmentation': m, 'Model': 'MLP',\n",
    "            'Accuracy': clf.score(X_te, y_te),\n",
    "            'Precision': precision_score(y_te, y_pred, zero_division=0),\n",
    "            'Recall': recall_score(y_te, y_pred, zero_division=0),\n",
    "            'F1-Score': f1_score(y_te, y_pred, zero_division=0),\n",
    "            'ROC-AUC': roc_auc_score(y_te, y_proba)\n",
    "        })\n",
    "results_mlp = pd.DataFrame(results_mlp)\n",
    "display(results_mlp)"
   ]
  },
  {
   "cell_type": "markdown",
   "id": "6dcb4f67",
   "metadata": {},
   "source": [
    "## Support Vector Machine (Linear Kernel)"
   ]
  },
  {
   "cell_type": "code",
   "execution_count": null,
   "id": "5a1718fc",
   "metadata": {},
   "outputs": [],
   "source": [
    "from sklearn.svm import SVC\n",
    "\n",
    "results_svm = []\n",
    "for t, sz in tests.items():\n",
    "    X_tr, X_te, y_tr, y_te = sample_and_split(sz['benign'], sz['slow'])\n",
    "    for m in methods:\n",
    "        if m == 'SMOTE':\n",
    "            X_aug, y_aug = SMOTE(random_state=42).fit_resample(X_tr, y_tr)\n",
    "        elif m == 'ADASYN':\n",
    "            X_aug, y_aug = ADASYN(random_state=42).fit_resample(X_tr, y_tr)\n",
    "        elif m == 'CVAE':\n",
    "            X_aug, y_aug = augment_cvae(X_tr, y_tr, sz['benign'])\n",
    "        elif m == 'GAN':\n",
    "            X_aug, y_aug = augment_gan(X_tr, y_tr, sz['benign'])\n",
    "        else:\n",
    "            X_aug, y_aug = X_tr, y_tr\n",
    "        clf = SVC(kernel='linear', probability=True, random_state=42)\n",
    "        clf.fit(X_aug, y_aug)\n",
    "        y_pred = clf.predict(X_te)\n",
    "        y_proba = clf.predict_proba(X_te)[:,1]\n",
    "        results_svm.append({\n",
    "            'Test': t, 'Augmentation': m, 'Model': 'SVM',\n",
    "            'Accuracy': clf.score(X_te, y_te),\n",
    "            'Precision': precision_score(y_te, y_pred, zero_division=0),\n",
    "            'Recall': recall_score(y_te, y_pred, zero_division=0),\n",
    "            'F1-Score': f1_score(y_te, y_pred, zero_division=0),\n",
    "            'ROC-AUC': roc_auc_score(y_te, y_proba)\n",
    "        })\n",
    "results_svm = pd.DataFrame(results_svm)\n",
    "display(results_svm)"
   ]
  },
  {
   "cell_type": "markdown",
   "id": "8d08b9b2",
   "metadata": {},
   "source": [
    "## Random Forest"
   ]
  },
  {
   "cell_type": "code",
   "execution_count": null,
   "id": "ccbf59ce",
   "metadata": {},
   "outputs": [],
   "source": [
    "from sklearn.ensemble import RandomForestClassifier\n",
    "\n",
    "results_rf = []\n",
    "for t, sz in tests.items():\n",
    "    X_tr, X_te, y_tr, y_te = sample_and_split(sz['benign'], sz['slow'])\n",
    "    for m in methods:\n",
    "        X_aug, y_aug = (SMOTE(random_state=42).fit_resample(X_tr, y_tr) if m=='SMOTE' \n",
    "                        else ADASYN(random_state=42).fit_resample(X_tr, y_tr) if m=='ADASYN'\n",
    "                        else augment_cvae(X_tr, y_tr, sz['benign']) if m=='CVAE'\n",
    "                        else augment_gan(X_tr, y_tr, sz['benign']) if m=='GAN'\n",
    "                        else (X_tr, y_tr))\n",
    "        clf = RandomForestClassifier(n_estimators=100, n_jobs=-1, random_state=42)\n",
    "        clf.fit(* (X_aug, y_aug))\n",
    "        y_pred = clf.predict(X_te)\n",
    "        y_proba = clf.predict_proba(X_te)[:,1]\n",
    "        results_rf.append({\n",
    "            'Test': t, 'Augmentation': m, 'Model': 'Random Forest',\n",
    "            'Accuracy': clf.score(X_te, y_te),\n",
    "            'Precision': precision_score(y_te, y_pred, zero_division=0),\n",
    "            'Recall': recall_score(y_te, y_pred, zero_division=0),\n",
    "            'F1-Score': f1_score(y_te, y_pred, zero_division=0),\n",
    "            'ROC-AUC': roc_auc_score(y_te, y_proba)\n",
    "        })\n",
    "results_rf = pd.DataFrame(results_rf)\n",
    "display(results_rf)"
   ]
  },
  {
   "cell_type": "markdown",
   "id": "8b29797f",
   "metadata": {},
   "source": [
    "## Logistic Regression"
   ]
  },
  {
   "cell_type": "code",
   "execution_count": null,
   "id": "4f8cf9c1",
   "metadata": {},
   "outputs": [],
   "source": [
    "from sklearn.linear_model import LogisticRegression\n",
    "\n",
    "results_lr = []\n",
    "for t, sz in tests.items():\n",
    "    X_tr, X_te, y_tr, y_te = sample_and_split(sz['benign'], sz['slow'])\n",
    "    for m in methods:\n",
    "        X_aug, y_aug = (SMOTE(random_state=42).fit_resample(X_tr, y_tr) if m=='SMOTE' \n",
    "                        else ADASYN(random_state=42).fit_resample(X_tr, y_tr) if m=='ADASYN'\n",
    "                        else augment_cvae(X_tr, y_tr, sz['benign']) if m=='CVAE'\n",
    "                        else augment_gan(X_tr, y_tr, sz['benign']) if m=='GAN'\n",
    "                        else (X_tr, y_tr))\n",
    "        clf = LogisticRegression(max_iter=500, random_state=42)\n",
    "        clf.fit(* (X_aug, y_aug))\n",
    "        y_pred = clf.predict(X_te)\n",
    "        y_proba = clf.predict_proba(X_te)[:,1]\n",
    "        results_lr.append({\n",
    "            'Test': t, 'Augmentation': m, 'Model': 'Logistic Regression',\n",
    "            'Accuracy': clf.score(X_te, y_te),\n",
    "            'Precision': precision_score(y_te, y_pred, zero_division=0),\n",
    "            'Recall': recall_score(y_te, y_pred, zero_division=0),\n",
    "            'F1-Score': f1_score(y_te, y_pred, zero_division=0),\n",
    "            'ROC-AUC': roc_auc_score(y_te, y_proba)\n",
    "        })\n",
    "results_lr = pd.DataFrame(results_lr)\n",
    "display(results_lr)"
   ]
  },
  {
   "cell_type": "markdown",
   "id": "54cde051",
   "metadata": {},
   "source": [
    "## XGBoost"
   ]
  },
  {
   "cell_type": "code",
   "execution_count": null,
   "id": "8dd78a73",
   "metadata": {},
   "outputs": [],
   "source": [
    "from xgboost import XGBClassifier\n",
    "\n",
    "results_xgb = []\n",
    "for t, sz in tests.items():\n",
    "    X_tr, X_te, y_tr, y_te = sample_and_split(sz['benign'], sz['slow'])\n",
    "    for m in methods:\n",
    "        X_aug, y_aug = (SMOTE(random_state=42).fit_resample(X_tr, y_tr) if m=='SMOTE' \n",
    "                        else ADASYN(random_state=42).fit_resample(X_tr, y_tr) if m=='ADASYN'\n",
    "                        else augment_cvae(X_tr, y_tr, sz['benign']) if m=='CVAE'\n",
    "                        else augment_gan(X_tr, y_tr, sz['benign']) if m=='GAN'\n",
    "                        else (X_tr, y_tr))\n",
    "        clf = XGBClassifier(eval_metric='logloss', n_jobs=-1, random_state=42)\n",
    "        clf.fit(* (X_aug, y_aug))\n",
    "        y_pred = clf.predict(X_te)\n",
    "        y_proba = clf.predict_proba(X_te)[:,1]\n",
    "        results_xgb.append({\n",
    "            'Test': t, 'Augmentation': m, 'Model': 'XGBoost',\n",
    "            'Accuracy': clf.score(X_te, y_te),\n",
    "            'Precision': precision_score(y_te, y_pred, zero_division=0),\n",
    "            'Recall': recall_score(y_te, y_pred, zero_division=0),\n",
    "            'F1-Score': f1_score(y_te, y_pred, zero_division=0),\n",
    "            'ROC-AUC': roc_auc_score(y_te, y_proba)\n",
    "        })\n",
    "results_xgb = pd.DataFrame(results_xgb)\n",
    "display(results_xgb)"
   ]
  },
  {
   "cell_type": "markdown",
   "id": "bd42fde5",
   "metadata": {},
   "source": [
    "## Combined Results and Visualization"
   ]
  },
  {
   "cell_type": "code",
   "execution_count": null,
   "id": "1998d8f2",
   "metadata": {},
   "outputs": [],
   "source": [
    "all_results = pd.concat([results_mlp, results_svm, results_rf, results_lr, results_xgb], ignore_index=True)\n",
    "display(all_results)\n",
    "all_results.to_csv('augmentation_evaluation_by_model.csv', index=False)\n",
    "\n",
    "plt.figure(figsize=(12,6))\n",
    "sns.barplot(data=all_results, x='Test', y='F1-Score', hue='Model', palette='plasma')\n",
    "plt.title('F1-Score Across Models and Tests')\n",
    "plt.show()"
   ]
  }
 ],
 "metadata": {
  "kernelspec": {
   "display_name": "base",
   "language": "python",
   "name": "python3"
  },
  "language_info": {
   "name": "python",
   "version": "3.11.5"
  }
 },
 "nbformat": 4,
 "nbformat_minor": 5
}
