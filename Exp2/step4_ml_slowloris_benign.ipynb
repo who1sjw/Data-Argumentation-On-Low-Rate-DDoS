{
 "cells": [
  {
   "cell_type": "markdown",
   "id": "10e6e5c0",
   "metadata": {},
   "source": [
    "# Step 4: Machine Learning Evaluation for Slowloris vs. Benign Traffic\n",
    "\n",
    "This notebook:\n",
    "1. Loads the preprocessed dataset.\n",
    "2. Filters to Slowloris vs. Benign samples.\n",
    "3. Defines candidate features and binary target.\n",
    "4. Standardizes features and splits into training/test.\n",
    "5. Applies stratified sampling to speed up training.\n",
    "6. Trains and evaluates MLP, SVM, Random Forest, Logistic Regression, and XGBoost.\n",
    "7. Displays performance summary, confusion matrices, and ROC curves."
   ]
  },
  {
   "cell_type": "markdown",
   "id": "1d0a7933",
   "metadata": {},
   "source": [
    "## 1. Imports"
   ]
  },
  {
   "cell_type": "code",
   "execution_count": 3,
   "id": "31e57a6a",
   "metadata": {},
   "outputs": [],
   "source": [
    "import pandas as pd\n",
    "import numpy as np\n",
    "import seaborn as sns\n",
    "import matplotlib.pyplot as plt\n",
    "from sklearn.model_selection import train_test_split, StratifiedShuffleSplit\n",
    "from sklearn.preprocessing import StandardScaler\n",
    "from sklearn.neural_network import MLPClassifier\n",
    "from sklearn.svm import SVC\n",
    "from sklearn.ensemble import RandomForestClassifier\n",
    "from sklearn.linear_model import LogisticRegression\n",
    "from xgboost import XGBClassifier\n",
    "from sklearn.metrics import (accuracy_score, precision_score, recall_score, f1_score,\n",
    "                             roc_auc_score, confusion_matrix, roc_curve, auc)"
   ]
  },
  {
   "cell_type": "markdown",
   "id": "b2b63659",
   "metadata": {},
   "source": [
    "## 2. Load and Filter Data"
   ]
  },
  {
   "cell_type": "code",
   "execution_count": 4,
   "id": "a4532510",
   "metadata": {},
   "outputs": [
    {
     "name": "stdout",
     "output_type": "stream",
     "text": [
      "Original data shape: (46686545, 47)\n",
      "Filtered data shape: (1121621, 47)\n",
      "Labels present: ['BenignTraffic' 'DDoS-SlowLoris']\n"
     ]
    }
   ],
   "source": [
    "# Load preprocessed dataset\n",
    "data = pd.read_csv(\"preprocessed_CICIoT2023.csv\")\n",
    "print(\"Original data shape:\", data.shape)\n",
    "\n",
    "# Filter to the two classes\n",
    "labels_of_interest = [\"DDoS-SlowLoris\", \"BenignTraffic\"]\n",
    "data = data[data[\"label\"].isin(labels_of_interest)].reset_index(drop=True)\n",
    "print(\"Filtered data shape:\", data.shape)\n",
    "print(\"Labels present:\", data[\"label\"].unique())"
   ]
  },
  {
   "cell_type": "markdown",
   "id": "c9ae9930",
   "metadata": {},
   "source": [
    "## 3. Feature Selection and Target Creation"
   ]
  },
  {
   "cell_type": "code",
   "execution_count": null,
   "id": "e3055fc7",
   "metadata": {},
   "outputs": [
    {
     "name": "stdout",
     "output_type": "stream",
     "text": [
      "Warning: Missing features: ['Magnitude']\n"
     ]
    },
    {
     "ename": "KeyError",
     "evalue": "\"['Magnitude'] not in index\"",
     "output_type": "error",
     "traceback": [
      "\u001b[0;31m---------------------------------------------------------------------------\u001b[0m",
      "\u001b[0;31mKeyError\u001b[0m                                  Traceback (most recent call last)",
      "Cell \u001b[0;32mIn[5], line 16\u001b[0m\n\u001b[1;32m     13\u001b[0m \u001b[38;5;66;03m# Create binary target (1 = Slowloris, 0 = Benign)\u001b[39;00m\n\u001b[1;32m     14\u001b[0m data[\u001b[38;5;124m'\u001b[39m\u001b[38;5;124mtarget\u001b[39m\u001b[38;5;124m'\u001b[39m] \u001b[38;5;241m=\u001b[39m (data[\u001b[38;5;124m'\u001b[39m\u001b[38;5;124mlabel\u001b[39m\u001b[38;5;124m'\u001b[39m] \u001b[38;5;241m==\u001b[39m \u001b[38;5;124m\"\u001b[39m\u001b[38;5;124mDDoS-SlowLoris\u001b[39m\u001b[38;5;124m\"\u001b[39m)\u001b[38;5;241m.\u001b[39mastype(\u001b[38;5;28mint\u001b[39m)\n\u001b[0;32m---> 16\u001b[0m X \u001b[38;5;241m=\u001b[39m data[candidate_features]\n\u001b[1;32m     17\u001b[0m y \u001b[38;5;241m=\u001b[39m data[\u001b[38;5;124m'\u001b[39m\u001b[38;5;124mtarget\u001b[39m\u001b[38;5;124m'\u001b[39m]\n\u001b[1;32m     18\u001b[0m \u001b[38;5;28mprint\u001b[39m(\u001b[38;5;124m\"\u001b[39m\u001b[38;5;124mFeature matrix shape:\u001b[39m\u001b[38;5;124m\"\u001b[39m, X\u001b[38;5;241m.\u001b[39mshape)\n",
      "File \u001b[0;32m~/anaconda3/lib/python3.11/site-packages/pandas/core/frame.py:3899\u001b[0m, in \u001b[0;36mDataFrame.__getitem__\u001b[0;34m(self, key)\u001b[0m\n\u001b[1;32m   3897\u001b[0m     \u001b[38;5;28;01mif\u001b[39;00m is_iterator(key):\n\u001b[1;32m   3898\u001b[0m         key \u001b[38;5;241m=\u001b[39m \u001b[38;5;28mlist\u001b[39m(key)\n\u001b[0;32m-> 3899\u001b[0m     indexer \u001b[38;5;241m=\u001b[39m \u001b[38;5;28mself\u001b[39m\u001b[38;5;241m.\u001b[39mcolumns\u001b[38;5;241m.\u001b[39m_get_indexer_strict(key, \u001b[38;5;124m\"\u001b[39m\u001b[38;5;124mcolumns\u001b[39m\u001b[38;5;124m\"\u001b[39m)[\u001b[38;5;241m1\u001b[39m]\n\u001b[1;32m   3901\u001b[0m \u001b[38;5;66;03m# take() does not accept boolean indexers\u001b[39;00m\n\u001b[1;32m   3902\u001b[0m \u001b[38;5;28;01mif\u001b[39;00m \u001b[38;5;28mgetattr\u001b[39m(indexer, \u001b[38;5;124m\"\u001b[39m\u001b[38;5;124mdtype\u001b[39m\u001b[38;5;124m\"\u001b[39m, \u001b[38;5;28;01mNone\u001b[39;00m) \u001b[38;5;241m==\u001b[39m \u001b[38;5;28mbool\u001b[39m:\n",
      "File \u001b[0;32m~/anaconda3/lib/python3.11/site-packages/pandas/core/indexes/base.py:6115\u001b[0m, in \u001b[0;36mIndex._get_indexer_strict\u001b[0;34m(self, key, axis_name)\u001b[0m\n\u001b[1;32m   6112\u001b[0m \u001b[38;5;28;01melse\u001b[39;00m:\n\u001b[1;32m   6113\u001b[0m     keyarr, indexer, new_indexer \u001b[38;5;241m=\u001b[39m \u001b[38;5;28mself\u001b[39m\u001b[38;5;241m.\u001b[39m_reindex_non_unique(keyarr)\n\u001b[0;32m-> 6115\u001b[0m \u001b[38;5;28mself\u001b[39m\u001b[38;5;241m.\u001b[39m_raise_if_missing(keyarr, indexer, axis_name)\n\u001b[1;32m   6117\u001b[0m keyarr \u001b[38;5;241m=\u001b[39m \u001b[38;5;28mself\u001b[39m\u001b[38;5;241m.\u001b[39mtake(indexer)\n\u001b[1;32m   6118\u001b[0m \u001b[38;5;28;01mif\u001b[39;00m \u001b[38;5;28misinstance\u001b[39m(key, Index):\n\u001b[1;32m   6119\u001b[0m     \u001b[38;5;66;03m# GH 42790 - Preserve name from an Index\u001b[39;00m\n",
      "File \u001b[0;32m~/anaconda3/lib/python3.11/site-packages/pandas/core/indexes/base.py:6179\u001b[0m, in \u001b[0;36mIndex._raise_if_missing\u001b[0;34m(self, key, indexer, axis_name)\u001b[0m\n\u001b[1;32m   6176\u001b[0m     \u001b[38;5;28;01mraise\u001b[39;00m \u001b[38;5;167;01mKeyError\u001b[39;00m(\u001b[38;5;124mf\u001b[39m\u001b[38;5;124m\"\u001b[39m\u001b[38;5;124mNone of [\u001b[39m\u001b[38;5;132;01m{\u001b[39;00mkey\u001b[38;5;132;01m}\u001b[39;00m\u001b[38;5;124m] are in the [\u001b[39m\u001b[38;5;132;01m{\u001b[39;00maxis_name\u001b[38;5;132;01m}\u001b[39;00m\u001b[38;5;124m]\u001b[39m\u001b[38;5;124m\"\u001b[39m)\n\u001b[1;32m   6178\u001b[0m not_found \u001b[38;5;241m=\u001b[39m \u001b[38;5;28mlist\u001b[39m(ensure_index(key)[missing_mask\u001b[38;5;241m.\u001b[39mnonzero()[\u001b[38;5;241m0\u001b[39m]]\u001b[38;5;241m.\u001b[39munique())\n\u001b[0;32m-> 6179\u001b[0m \u001b[38;5;28;01mraise\u001b[39;00m \u001b[38;5;167;01mKeyError\u001b[39;00m(\u001b[38;5;124mf\u001b[39m\u001b[38;5;124m\"\u001b[39m\u001b[38;5;132;01m{\u001b[39;00mnot_found\u001b[38;5;132;01m}\u001b[39;00m\u001b[38;5;124m not in index\u001b[39m\u001b[38;5;124m\"\u001b[39m)\n",
      "\u001b[0;31mKeyError\u001b[0m: \"['Magnitude'] not in index\""
     ]
    }
   ],
   "source": [
    "# Candidate features\n",
    "candidate_features = [\n",
    "    \"flow_duration\", \"Rate\", \"Srate\", \"IAT\",\n",
    "    \"ack_flag_number\", \"Magnitue\", \"Radius\",\n",
    "    \"Variance\", \"Number\", \"Weight\"\n",
    "]\n",
    "\n",
    "# Check for missing features\n",
    "missing = [f for f in candidate_features if f not in data.columns]\n",
    "if missing:\n",
    "    print(\"Warning: Missing features:\", missing)\n",
    "\n",
    "# Create binary target (1 = Slowloris, 0 = Benign)\n",
    "data['target'] = (data['label'] == \"DDoS-SlowLoris\").astype(int)\n",
    "\n",
    "X = data[candidate_features]\n",
    "y = data['target']\n",
    "print(\"Feature matrix shape:\", X.shape)\n",
    "print(\"Target distribution:\\n\", y.value_counts())"
   ]
  },
  {
   "cell_type": "markdown",
   "id": "375420f7",
   "metadata": {},
   "source": [
    "## 4. Standardize & Split"
   ]
  },
  {
   "cell_type": "code",
   "execution_count": null,
   "id": "90937c99",
   "metadata": {},
   "outputs": [],
   "source": [
    "# Standardize features\n",
    "scaler = StandardScaler()\n",
    "X_scaled = scaler.fit_transform(X)\n",
    "\n",
    "# Stratified train-test split\n",
    "X_train, X_test, y_train, y_test = train_test_split(\n",
    "    X_scaled, y, test_size=0.3, random_state=42, stratify=y\n",
    ")\n",
    "print(\"Train/test shapes:\", X_train.shape, X_test.shape, y_train.shape, y_test.shape)"
   ]
  },
  {
   "cell_type": "markdown",
   "id": "122d699a",
   "metadata": {},
   "source": [
    "## 5. Stratified Sampling (Optional)"
   ]
  },
  {
   "cell_type": "code",
   "execution_count": null,
   "id": "914b4de1",
   "metadata": {},
   "outputs": [],
   "source": [
    "# Reduce training set to 10% for faster training\n",
    "sss = StratifiedShuffleSplit(n_splits=1, train_size=0.1, random_state=42)\n",
    "for train_idx, _ in sss.split(X_train, y_train):\n",
    "    X_train_small = X_train[train_idx]\n",
    "    y_train_small = y_train.iloc[train_idx]\n",
    "\n",
    "print(\"Sampled train shape:\", X_train_small.shape)"
   ]
  },
  {
   "cell_type": "markdown",
   "id": "39c6b6fa",
   "metadata": {},
   "source": [
    "## 6. Train & Evaluate Models"
   ]
  },
  {
   "cell_type": "code",
   "execution_count": null,
   "id": "9bfc76f1",
   "metadata": {},
   "outputs": [],
   "source": [
    "# Initialize models\n",
    "models = {\n",
    "    \"MLP\": MLPClassifier(random_state=42, max_iter=500),\n",
    "    \"SVM\": SVC(probability=True, random_state=42),\n",
    "    \"Random Forest\": RandomForestClassifier(n_estimators=100, random_state=42),\n",
    "    \"Logistic Regression\": LogisticRegression(max_iter=500, random_state=42),\n",
    "    \"XGBoost\": XGBClassifier(use_label_encoder=False, eval_metric='logloss', random_state=42)\n",
    "}\n",
    "\n",
    "# Evaluate\n",
    "results = {}\n",
    "for name, model in models.items():\n",
    "    model.fit(X_train_small, y_train_small)\n",
    "    y_pred = model.predict(X_test)\n",
    "    y_proba = model.predict_proba(X_test)[:,1]\n",
    "    results[name] = {\n",
    "        \"Accuracy\": accuracy_score(y_test, y_pred),\n",
    "        \"Precision\": precision_score(y_test, y_pred, zero_division=0),\n",
    "        \"Recall\": recall_score(y_test, y_pred, zero_division=0),\n",
    "        \"F1-Score\": f1_score(y_test, y_pred, zero_division=0),\n",
    "        \"ROC-AUC\": roc_auc_score(y_test, y_proba)\n",
    "    }\n",
    "\n",
    "# Summary DataFrame\n",
    "results_df = pd.DataFrame(results).T\n",
    "print(\"### Model Performance Summary ###\")\n",
    "display(results_df)"
   ]
  },
  {
   "cell_type": "code",
   "execution_count": null,
   "id": "9ffc1bb4",
   "metadata": {},
   "outputs": [],
   "source": [
    "# Performance Bar Chart using 'plasma' palette\n",
    "models_list = results_df.index.tolist()\n",
    "metrics = results_df.columns.tolist()\n",
    "colors = sns.color_palette(\"plasma\", len(metrics))\n",
    "palette = dict(zip(metrics, colors))\n",
    "\n",
    "x = np.arange(len(models_list))\n",
    "width = 0.15\n",
    "fig, ax = plt.subplots(figsize=(12,6), layout='constrained')\n",
    "\n",
    "for i, metric in enumerate(metrics):\n",
    "    vals = results_df[metric].values\n",
    "    rects = ax.bar(x + i*width, vals, width, label=metric, color=palette[metric])\n",
    "    for bar in rects:\n",
    "        ax.text(bar.get_x()+bar.get_width()/2, bar.get_height()+0.01,\n",
    "                f\"{bar.get_height():.3f}\", ha='center', va='bottom', rotation=90, fontsize=8)\n",
    "\n",
    "ax.set_xticks(x + width*(len(metrics)-1)/2)\n",
    "ax.set_xticklabels(models_list)\n",
    "ax.set_ylabel(\"Score\")\n",
    "ax.set_title(\"Model Performance Metrics\")\n",
    "ax.legend(title=\"Metric\", ncols=len(metrics), loc='upper left')\n",
    "plt.ylim(0,1.1)\n",
    "plt.show()"
   ]
  },
  {
   "cell_type": "code",
   "execution_count": null,
   "id": "b7be1f0e",
   "metadata": {},
   "outputs": [],
   "source": [
    "# 7. Confusion Matrices\n",
    "class_labels = [\"Benign\", \"Slowloris\"]\n",
    "for name, model in models.items():\n",
    "    y_pred = model.predict(X_test)\n",
    "    cm = confusion_matrix(y_test, y_pred)\n",
    "    plt.figure(figsize=(5,4))\n",
    "    sns.heatmap(cm, annot=True, fmt='d', cmap='Blues',\n",
    "                xticklabels=class_labels, yticklabels=class_labels)\n",
    "    plt.title(f\"Confusion Matrix: {name}\")\n",
    "    plt.xlabel(\"Predicted\")\n",
    "    plt.ylabel(\"Actual\")\n",
    "    plt.show()"
   ]
  },
  {
   "cell_type": "code",
   "execution_count": null,
   "id": "7854dc86",
   "metadata": {},
   "outputs": [],
   "source": [
    "# 8. ROC Curves\n",
    "model_order = results_df.index.tolist()\n",
    "colors_model = sns.color_palette(\"Dark2\", len(model_order))\n",
    "roc_palette = dict(zip(model_order, colors_model))\n",
    "\n",
    "plt.figure(figsize=(8,6))\n",
    "for name in model_order:\n",
    "    model = models[name]\n",
    "    y_proba = model.predict_proba(X_test)[:,1]\n",
    "    fpr, tpr, _ = roc_curve(y_test, y_proba)\n",
    "    roc_auc = auc(fpr, tpr)\n",
    "    plt.plot(fpr, tpr, label=f\"{name} (AUC={roc_auc:.3f})\",\n",
    "             color=roc_palette[name], linewidth=2)\n",
    "\n",
    "plt.plot([0,1],[0,1],'k--',linewidth=1)\n",
    "plt.xlabel(\"False Positive Rate\")\n",
    "plt.ylabel(\"True Positive Rate\")\n",
    "plt.title(\"ROC Curves for All Models\")\n",
    "plt.legend(loc=\"lower right\")\n",
    "plt.show()"
   ]
  },
  {
   "cell_type": "markdown",
   "id": "179823b3",
   "metadata": {},
   "source": [
    "**Conclusion:**\n",
    "\n",
    "- The performance bar chart highlights comparative strengths across metrics.\n",
    "- Confusion matrices reveal class‐specific errors.\n",
    "- ROC curves illustrate model discrimination ability."
   ]
  }
 ],
 "metadata": {
  "kernelspec": {
   "display_name": "base",
   "language": "python",
   "name": "python3"
  },
  "language_info": {
   "codemirror_mode": {
    "name": "ipython",
    "version": 3
   },
   "file_extension": ".py",
   "mimetype": "text/x-python",
   "name": "python",
   "nbconvert_exporter": "python",
   "pygments_lexer": "ipython3",
   "version": "3.11.5"
  }
 },
 "nbformat": 4,
 "nbformat_minor": 5
}
