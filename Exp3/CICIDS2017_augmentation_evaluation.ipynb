{
 "cells": [
  {
   "cell_type": "markdown",
   "id": "149a3fbe",
   "metadata": {},
   "source": [
    "# CIC-IDS-2017 Low-Rate DDoS Augmentation and Model Evaluation\n",
    "This notebook performs:\n",
    "1. Splitting the dataset by attack label into separate CSVs.\n",
    "2. Basic data cleaning and inspection.\n",
    "3. Designing Test scenarios with different benign vs low-rate attack ratios.\n",
    "4. Evaluating MLP, Random Forest, Logistic Regression, and XGBoost under augmentation methods: None, SMOTE, ADASYN, CVAE, GAN."
   ]
  },
  {
   "cell_type": "code",
   "execution_count": 1,
   "id": "a4f08de9",
   "metadata": {},
   "outputs": [],
   "source": [
    "import warnings\n",
    "warnings.filterwarnings('ignore')\n",
    "import os, glob\n",
    "import pandas as pd\n",
    "import numpy as np\n",
    "from sklearn.model_selection import train_test_split\n",
    "from sklearn.preprocessing import StandardScaler\n",
    "from imblearn.over_sampling import SMOTE, ADASYN\n",
    "import matplotlib.pyplot as plt\n",
    "import seaborn as sns\n",
    "from sklearn.neural_network import MLPClassifier\n",
    "from sklearn.ensemble import RandomForestClassifier\n",
    "from sklearn.linear_model import LogisticRegression\n",
    "from xgboost import XGBClassifier\n",
    "from sklearn.metrics import precision_score, recall_score, f1_score, roc_auc_score\n"
   ]
  },
  {
   "cell_type": "code",
   "execution_count": 2,
   "id": "7a4ae45a",
   "metadata": {},
   "outputs": [],
   "source": [
    "def augment_cvae(X, y, n_samples):\n",
    "    # Placeholder for CVAE-based augmentation\n",
    "    return X, y\n",
    "\n",
    "def augment_gan(X, y, n_samples):\n",
    "    # Placeholder for GAN-based augmentation\n",
    "    return X, y\n"
   ]
  },
  {
   "cell_type": "code",
   "execution_count": 4,
   "id": "909d654f",
   "metadata": {},
   "outputs": [
    {
     "name": "stdout",
     "output_type": "stream",
     "text": [
      "Split files created in split_by_label/\n"
     ]
    }
   ],
   "source": [
    "# Step 1: Split by label into separate CSVs \n",
    "\n",
    "# Collect CSV files\n",
    "csv_files = glob.glob('CIC-IDS-2017/*.csv')\n",
    "\n",
    "os.makedirs('split_by_label', exist_ok=True)\n",
    "\n",
    "for file in csv_files:\n",
    "    df = pd.read_csv(file)\n",
    "    # Strip whitespace from all column names\n",
    "    df.columns = df.columns.str.strip()\n",
    "    # Verify 'Label' column exists\n",
    "    if 'Label' not in df.columns:\n",
    "        raise KeyError(f\"'Label' column not found in {file}. Available columns: {df.columns.tolist()}\")\n",
    "    # Split and save by label\n",
    "    for lbl, group in df.groupby('Label'):\n",
    "        safe_lbl = lbl.replace('/', '_').replace(' ', '_')\n",
    "        group.to_csv(f'split_by_label/{safe_lbl}.csv', index=False)\n",
    "\n",
    "print('Split files created in split_by_label/')\n"
   ]
  },
  {
   "cell_type": "code",
   "execution_count": 7,
   "id": "3b36cfce",
   "metadata": {},
   "outputs": [
    {
     "name": "stdout",
     "output_type": "stream",
     "text": [
      "Original dataset shape: (2830743, 79)\n",
      "Cleaned dataset shape: (2522009, 79)\n"
     ]
    },
    {
     "data": {
      "text/plain": [
       "Label\n",
       "BENIGN                        2096134\n",
       "DoS Hulk                       172846\n",
       "DDoS                           128016\n",
       "PortScan                        90819\n",
       "DoS GoldenEye                   10286\n",
       "FTP-Patator                      5933\n",
       "DoS slowloris                    5385\n",
       "DoS Slowhttptest                 5228\n",
       "SSH-Patator                      3219\n",
       "Bot                              1953\n",
       "Web Attack � Brute Force         1470\n",
       "Web Attack � XSS                  652\n",
       "Infiltration                       36\n",
       "Web Attack � Sql Injection         21\n",
       "Heartbleed                         11\n",
       "Name: count, dtype: int64"
      ]
     },
     "metadata": {},
     "output_type": "display_data"
    }
   ],
   "source": [
    "# Step 2: Data cleaning and inspection (fixed)\n",
    "\n",
    "# Collect all CSV files from the dataset folder\n",
    "csv_files = glob.glob('CIC-IDS-2017/*.csv')\n",
    "\n",
    "# Load and concatenate all CSVs into a single DataFrame\n",
    "df_all = pd.concat([pd.read_csv(f) for f in csv_files], ignore_index=True)\n",
    "\n",
    "# Strip whitespace from column names\n",
    "df_all.columns = df_all.columns.str.strip()\n",
    "\n",
    "# Drop duplicates and missing values\n",
    "df_clean = df_all.drop_duplicates().dropna()\n",
    "\n",
    "print('Original dataset shape:', df_all.shape)\n",
    "print('Cleaned dataset shape:', df_clean.shape)\n",
    "\n",
    "# Ensure 'Label' column exists\n",
    "if 'Label' not in df_clean.columns:\n",
    "    raise KeyError(f\"'Label' column not found. Available columns: {df_clean.columns.tolist()}\")\n",
    "\n",
    "# Display distribution of attack labels\n",
    "display(df_clean['Label'].value_counts())"
   ]
  },
  {
   "cell_type": "code",
   "execution_count": 8,
   "id": "45ab2474",
   "metadata": {},
   "outputs": [
    {
     "data": {
      "text/plain": [
       "(2096134, 10613)"
      ]
     },
     "execution_count": 8,
     "metadata": {},
     "output_type": "execute_result"
    }
   ],
   "source": [
    "# Prepare BENIGN and low-rate attack sets (slowloris + slowhttptest)\n",
    "benign = df_clean[df_clean['Label'] == 'BENIGN']\n",
    "slow = df_clean[df_clean['Label'].isin(['DoS slowloris', 'DoS Slowhttptest'])]\n",
    "len(benign), len(slow)\n"
   ]
  },
  {
   "cell_type": "code",
   "execution_count": 9,
   "id": "75478872",
   "metadata": {},
   "outputs": [],
   "source": [
    "def sample_and_split(n_b, n_s):\n",
    "    replace_b = n_b > len(benign)\n",
    "    replace_s = n_s > len(slow)\n",
    "    df = pd.concat([\n",
    "        benign.sample(n=n_b, random_state=42, replace=replace_b),\n",
    "        slow.sample(n=n_s, random_state=42, replace=replace_s)\n",
    "    ], ignore_index=True)\n",
    "    X = df.drop(columns=['Label'])\n",
    "    y = (df['Label'].isin(['DoS slowloris', 'DoS Slowhttptest'])).astype(int)\n",
    "    Xs = StandardScaler().fit_transform(X)\n",
    "    return train_test_split(Xs, y, test_size=0.3, random_state=42, stratify=y)\n"
   ]
  },
  {
   "cell_type": "code",
   "execution_count": null,
   "id": "9dda0d90",
   "metadata": {},
   "outputs": [],
   "source": [
    "# Step 3: Define Test scenarios\n",
    "combined_slow_count = len(slow)\n",
    "tests = {\n",
    "    'Test1': {'benign': combined_slow_count, 'slow': combined_slow_count},\n",
    "    'Test2': {'benign': len(benign), 'slow': combined_slow_count},\n",
    "    'Test3': {'benign': combined_slow_count // 2, 'slow': combined_slow_count // 2},\n",
    "    'Test4': {'benign': combined_slow_count * 2, 'slow': combined_slow_count}\n",
    "}\n",
    "methods = ['None', 'SMOTE', 'ADASYN', 'CVAE', 'GAN']\n",
    "models = {\n",
    "    'MLP': MLPClassifier(random_state=42, max_iter=500, early_stopping=True),\n",
    "    'RandomForest': RandomForestClassifier(random_state=42),\n",
    "    'LogisticRegression': LogisticRegression(max_iter=1000, random_state=42),\n",
    "    'XGBoost': XGBClassifier(use_label_encoder=False, eval_metric='logloss', random_state=42)\n",
    "}\n"
   ]
  },
  {
   "cell_type": "code",
   "execution_count": null,
   "id": "b82f750f",
   "metadata": {},
   "outputs": [],
   "source": [
    "# Step 4: Evaluate models under different augmentation methods\n",
    "results = []\n",
    "for t, sz in tests.items():\n",
    "    X_tr, X_te, y_tr, y_te = sample_and_split(sz['benign'], sz['slow'])\n",
    "    for m in methods:\n",
    "        if m == 'SMOTE':\n",
    "            X_aug, y_aug = SMOTE(random_state=42).fit_resample(X_tr, y_tr)\n",
    "        elif m == 'ADASYN':\n",
    "            X_aug, y_aug = ADASYN(random_state=42).fit_resample(X_tr, y_tr)\n",
    "        elif m == 'CVAE':\n",
    "            X_aug, y_aug = augment_cvae(X_tr, y_tr, sz['benign'])\n",
    "        elif m == 'GAN':\n",
    "            X_aug, y_aug = augment_gan(X_tr, y_tr, sz['benign'])\n",
    "        else:\n",
    "            X_aug, y_aug = X_tr, y_tr\n",
    "        for name, model in models.items():\n",
    "            clf = model\n",
    "            clf.fit(X_aug, y_aug)\n",
    "            y_pred = clf.predict(X_te)\n",
    "            y_proba = clf.predict_proba(X_te)[:, 1]\n",
    "            results.append({\n",
    "                'Test': t,\n",
    "                'Augmentation': m,\n",
    "                'Model': name,\n",
    "                'Accuracy': clf.score(X_te, y_te),\n",
    "                'Precision': precision_score(y_te, y_pred, zero_division=0),\n",
    "                'Recall': recall_score(y_te, y_pred, zero_division=0),\n",
    "                'F1-Score': f1_score(y_te, y_pred, zero_division=0),\n",
    "                'ROC-AUC': roc_auc_score(y_te, y_proba)\n",
    "            })\n",
    "df_results = pd.DataFrame(results)\n",
    "display(df_results)\n",
    "# Save results to CSV\n",
    "df_results.to_csv('cic_ids_2017_results.csv', index=False)\n"
   ]
  },
  {
   "cell_type": "markdown",
   "id": "30223918",
   "metadata": {},
   "source": [
    "## Conclusion\n",
    "- This notebook compared four classification models under five augmentation methods across four Test scenarios.\n",
    "- Results are saved to `cic_ids_2017_results.csv` for further analysis.\n"
   ]
  }
 ],
 "metadata": {
  "kernelspec": {
   "display_name": "base",
   "language": "python",
   "name": "python3"
  },
  "language_info": {
   "codemirror_mode": {
    "name": "ipython",
    "version": 3
   },
   "file_extension": ".py",
   "mimetype": "text/x-python",
   "name": "python",
   "nbconvert_exporter": "python",
   "pygments_lexer": "ipython3",
   "version": "3.11.5"
  }
 },
 "nbformat": 4,
 "nbformat_minor": 5
}
